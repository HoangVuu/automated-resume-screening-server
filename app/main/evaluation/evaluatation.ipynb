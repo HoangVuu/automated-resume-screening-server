{
 "metadata": {
  "language_info": {
   "codemirror_mode": {
    "name": "ipython",
    "version": 3
   },
   "file_extension": ".py",
   "mimetype": "text/x-python",
   "name": "python",
   "nbconvert_exporter": "python",
   "pygments_lexer": "ipython3",
   "version": "3.9.0-final"
  },
  "orig_nbformat": 2,
  "kernelspec": {
   "name": "python3",
   "display_name": "Python 3.9.0 64-bit ('venv')",
   "metadata": {
    "interpreter": {
     "hash": "1cb16066ebc557a87edb1b0293f544688ae054368853a9d52fc375d065bc2698"
    }
   }
  }
 },
 "nbformat": 4,
 "nbformat_minor": 2,
 "cells": [
  {
   "cell_type": "code",
   "execution_count": 44,
   "metadata": {},
   "outputs": [
    {
     "output_type": "execute_result",
     "data": {
      "text/plain": [
       "['/Users/vinhpham/Desktop/automated-resume-screening-server/app/main/evaluation',\n",
       " '/Users/vinhpham/.vscode/extensions/ms-toolsai.jupyter-2020.12.414227025/pythonFiles',\n",
       " '/Users/vinhpham/.vscode/extensions/ms-toolsai.jupyter-2020.12.414227025/pythonFiles/lib/python',\n",
       " '/Users/vinhpham/.pyenv/versions/3.9.0/lib/python39.zip',\n",
       " '/Users/vinhpham/.pyenv/versions/3.9.0/lib/python3.9',\n",
       " '/Users/vinhpham/.pyenv/versions/3.9.0/lib/python3.9/lib-dynload',\n",
       " '',\n",
       " '/Users/vinhpham/Desktop/automated-resume-screening-server/venv/lib/python3.9/site-packages',\n",
       " '/Users/vinhpham/Desktop/automated-resume-screening-server/venv/lib/python3.9/site-packages/IPython/extensions',\n",
       " '/Users/vinhpham/.ipython',\n",
       " '/Users/vinhpham/Desktop/automated-resume-screening-server',\n",
       " '/Users/vinhpham/Desktop/automated-resume-screening-server/preprocess',\n",
       " '/Users/vinhpham/Desktop/automated-resume-screening-server/app',\n",
       " '/Users/vinhpham/Desktop/automated-resume-screening-server/app/main',\n",
       " '/Users/vinhpham/Desktop/automated-resume-screening-server/app/main/util',\n",
       " '/Users/vinhpham/Desktop/automated-resume-screening-server',\n",
       " '/Users/vinhpham/Desktop/automated-resume-screening-server/preprocess',\n",
       " '/Users/vinhpham/Desktop/automated-resume-screening-server/app',\n",
       " '/Users/vinhpham/Desktop/automated-resume-screening-server/app/main',\n",
       " '/Users/vinhpham/Desktop/automated-resume-screening-server/app/main/util']"
      ]
     },
     "metadata": {},
     "execution_count": 44
    }
   ],
   "source": [
    "# Add sys path if need\n",
    "import sys\n",
    "sys.path.append(\"/Users/vinhpham/Desktop/automated-resume-screening-server\")\n",
    "sys.path.append(\"/Users/vinhpham/Desktop/automated-resume-screening-server/preprocess\")\n",
    "sys.path.append(\"/Users/vinhpham/Desktop/automated-resume-screening-server/app\")\n",
    "sys.path.append(\"/Users/vinhpham/Desktop/automated-resume-screening-server/app/main\")\n",
    "sys.path.append(\"/Users/vinhpham/Desktop/automated-resume-screening-server/app/main/util\")\n",
    "sys.path"
   ]
  },
  {
   "cell_type": "code",
   "execution_count": 45,
   "metadata": {},
   "outputs": [
    {
     "output_type": "error",
     "ename": "FileNotFoundError",
     "evalue": "[Errno 2] No such file or directory: 'preprocess/cue_word.txt'",
     "traceback": [
      "\u001b[0;31m---------------------------------------------------------------------------\u001b[0m",
      "\u001b[0;31mFileNotFoundError\u001b[0m                         Traceback (most recent call last)",
      "\u001b[0;32m<ipython-input-45-3fac60be5546>\u001b[0m in \u001b[0;36m<module>\u001b[0;34m\u001b[0m\n\u001b[1;32m      1\u001b[0m \u001b[0;32mfrom\u001b[0m \u001b[0mapp\u001b[0m\u001b[0;34m.\u001b[0m\u001b[0mmain\u001b[0m\u001b[0;34m.\u001b[0m\u001b[0mprocess_data\u001b[0m\u001b[0;34m.\u001b[0m\u001b[0mclassify_wrapper\u001b[0m\u001b[0;34m.\u001b[0m\u001b[0mclassify_manager\u001b[0m \u001b[0;32mimport\u001b[0m \u001b[0mClassifyManager\u001b[0m\u001b[0;34m\u001b[0m\u001b[0;34m\u001b[0m\u001b[0m\n\u001b[0;32m----> 2\u001b[0;31m \u001b[0;32mfrom\u001b[0m \u001b[0mapp\u001b[0m\u001b[0;34m.\u001b[0m\u001b[0mmain\u001b[0m\u001b[0;34m.\u001b[0m\u001b[0mutil\u001b[0m\u001b[0;34m.\u001b[0m\u001b[0mresume_extractor\u001b[0m \u001b[0;32mimport\u001b[0m \u001b[0mResumeExtractor\u001b[0m\u001b[0;34m\u001b[0m\u001b[0;34m\u001b[0m\u001b[0m\n\u001b[0m\u001b[1;32m      3\u001b[0m \u001b[0;32mimport\u001b[0m \u001b[0mjson\u001b[0m\u001b[0;34m\u001b[0m\u001b[0;34m\u001b[0m\u001b[0m\n\u001b[1;32m      4\u001b[0m \u001b[0;32mimport\u001b[0m \u001b[0mos\u001b[0m\u001b[0;34m\u001b[0m\u001b[0;34m\u001b[0m\u001b[0m\n\u001b[1;32m      5\u001b[0m \u001b[0;32mimport\u001b[0m \u001b[0mpandas\u001b[0m \u001b[0;32mas\u001b[0m \u001b[0mpd\u001b[0m\u001b[0;34m\u001b[0m\u001b[0;34m\u001b[0m\u001b[0m\n",
      "\u001b[0;32m~/Desktop/automated-resume-screening-server/app/main/util/resume_extractor.py\u001b[0m in \u001b[0;36m<module>\u001b[0;34m\u001b[0m\n\u001b[1;32m     17\u001b[0m \u001b[0mstop_words\u001b[0m \u001b[0;34m=\u001b[0m \u001b[0mset\u001b[0m\u001b[0;34m(\u001b[0m\u001b[0mstopwords\u001b[0m\u001b[0;34m.\u001b[0m\u001b[0mwords\u001b[0m\u001b[0;34m(\u001b[0m\u001b[0;34m'english'\u001b[0m\u001b[0;34m)\u001b[0m\u001b[0;34m)\u001b[0m\u001b[0;34m\u001b[0m\u001b[0;34m\u001b[0m\u001b[0m\n\u001b[1;32m     18\u001b[0m \u001b[0;34m\u001b[0m\u001b[0m\n\u001b[0;32m---> 19\u001b[0;31m \u001b[0mcue_words\u001b[0m \u001b[0;34m=\u001b[0m \u001b[0mopen\u001b[0m\u001b[0;34m(\u001b[0m\u001b[0;34m\"preprocess/cue_word.txt\"\u001b[0m\u001b[0;34m,\u001b[0m \u001b[0;34m\"r\"\u001b[0m\u001b[0;34m)\u001b[0m\u001b[0;34m.\u001b[0m\u001b[0mreadlines\u001b[0m\u001b[0;34m(\u001b[0m\u001b[0;34m)\u001b[0m\u001b[0;34m\u001b[0m\u001b[0;34m\u001b[0m\u001b[0m\n\u001b[0m\u001b[1;32m     20\u001b[0m \u001b[0mcue_words\u001b[0m \u001b[0;34m=\u001b[0m \u001b[0;34m[\u001b[0m\u001b[0mre\u001b[0m\u001b[0;34m.\u001b[0m\u001b[0msub\u001b[0m\u001b[0;34m(\u001b[0m\u001b[0;34mr\"\\n\"\u001b[0m\u001b[0;34m,\u001b[0m \u001b[0;34m\"\"\u001b[0m\u001b[0;34m,\u001b[0m \u001b[0mc\u001b[0m\u001b[0;34m)\u001b[0m \u001b[0;32mfor\u001b[0m \u001b[0mc\u001b[0m \u001b[0;32min\u001b[0m \u001b[0mcue_words\u001b[0m\u001b[0;34m]\u001b[0m\u001b[0;34m\u001b[0m\u001b[0;34m\u001b[0m\u001b[0m\n\u001b[1;32m     21\u001b[0m \u001b[0mcue_words\u001b[0m \u001b[0;34m=\u001b[0m \u001b[0mset\u001b[0m\u001b[0;34m(\u001b[0m\u001b[0mcue_words\u001b[0m\u001b[0;34m)\u001b[0m\u001b[0;34m\u001b[0m\u001b[0;34m\u001b[0m\u001b[0m\n",
      "\u001b[0;31mFileNotFoundError\u001b[0m: [Errno 2] No such file or directory: 'preprocess/cue_word.txt'"
     ]
    }
   ],
   "source": [
    "from app.main.process_data.classify_wrapper.classify_manager import ClassifyManager\n",
    "from app.main.util.resume_extractor import ResumeExtractor\n",
    "import json\n",
    "import os\n",
    "import pandas as pd\n",
    "import numpy as np"
   ]
  },
  {
   "cell_type": "code",
   "execution_count": null,
   "metadata": {},
   "outputs": [],
   "source": [
    "classifier = ClassifyManager()"
   ]
  },
  {
   "cell_type": "code",
   "execution_count": null,
   "metadata": {},
   "outputs": [],
   "source": [
    "BASE_PATH = \"/Users/vinhpham/Desktop/automated-resume-screening-server/app/main/evaluation\"\n",
    "def path(_path):\n",
    "    return '/'.join([BASE_PATH, _path])"
   ]
  },
  {
   "cell_type": "code",
   "execution_count": null,
   "metadata": {},
   "outputs": [],
   "source": [
    "##################\n",
    "# HELPERS\n",
    "##################\n",
    "# dict_keys(['syntactic', 'semantic', 'union', 'enhanced', 'explanation'])\n",
    "def extract(domain, doc):\n",
    "    domain_result = classifier.run_classifier(domain=domain, explanation=True, job_description=doc)\n",
    "    general_result = classifier.run_classifier(domain='general', explanation=True, job_description=doc)\n",
    "    softskill_result = classifier.run_classifier(domain='softskill', explanation=True, job_description=doc)\n",
    "    return {\n",
    "        'domain': parse_result(domain_result),\n",
    "        'general': parse_result(general_result),\n",
    "        'softskill': parse_result(softskill_result),\n",
    "    }\n",
    "\n",
    "def parse_result(result):\n",
    "    dict_result = result.get_dict()\n",
    "    all_skills = set(dict_result['union'])\n",
    "    explicit_skills = set(dict_result['syntactic'])\n",
    "    related_skills = all_skills.difference(explicit_skills)\n",
    "    return {\n",
    "        'explicit_skills': list(explicit_skills),\n",
    "        'related_skills': list(related_skills),\n",
    "        'all_skills': list(all_skills),\n",
    "        'explanation': dict_result['explanation']\n",
    "    }\n",
    "\n",
    "def parse_CV(local_path):\n",
    "    \"Return text.\"\n",
    "    result_dict = ResumeExtractor(resume_local_path=local_path, is_pdf=true).extract()\n",
    "    return result_dict\n",
    "#######################"
   ]
  },
  {
   "cell_type": "code",
   "execution_count": null,
   "metadata": {},
   "outputs": [],
   "source": [
    "# Extraction\n",
    "res = extract('general', \"golang\")\n",
    "with open(path('/evaluation_result.json'), 'w') as f:\n",
    "    f.write(json.dumps(res, indent=4))"
   ]
  },
  {
   "cell_type": "code",
   "execution_count": null,
   "metadata": {},
   "outputs": [],
   "source": [
    "parse_CV('/Users/vinhpham/Desktop/automated-resume-screening-server/app/main/evaluation/data/ios/cv/ios-1/ios-1.pdf')"
   ]
  },
  {
   "cell_type": "code",
   "execution_count": null,
   "metadata": {},
   "outputs": [],
   "source": [
    "path('csv_file.csv')"
   ]
  },
  {
   "cell_type": "code",
   "execution_count": null,
   "metadata": {},
   "outputs": [],
   "source": [
    "df = pd.read_csv(path('csv_file.csv'))\n",
    "df.shape"
   ]
  },
  {
   "cell_type": "code",
   "execution_count": null,
   "metadata": {},
   "outputs": [],
   "source": [
    "f = open(path('data/ios/posts.csv'))"
   ]
  },
  {
   "cell_type": "code",
   "execution_count": null,
   "metadata": {},
   "outputs": [],
   "source": [
    "ios_posts_path = path('data/ios/posts.csv')\n",
    "df = pd.read_csv(f, delimiter='|')"
   ]
  },
  {
   "cell_type": "code",
   "execution_count": null,
   "metadata": {},
   "outputs": [],
   "source": [
    "[i for i in range(1, 11)]"
   ]
  },
  {
   "cell_type": "code",
   "execution_count": null,
   "metadata": {},
   "outputs": [],
   "source": [
    "data = {\n",
    "    'index': [i for i in range(1, 11)],\n",
    "    'domain': ['ios' for i in range(1, 11)],\n",
    "    'post': [a.strip('\\n').replace('\\n', '. ') for a in [a1, a2, a3, a4, a5, a6, a7, a8, a9, a10]]\n",
    "}\n",
    "df_ios = pd.DataFrame(data=data)"
   ]
  },
  {
   "cell_type": "code",
   "execution_count": null,
   "metadata": {},
   "outputs": [],
   "source": [
    "with open('ios_posts.csv', 'w') as f:\n",
    "    f.write('::delimiter::'.join(['index', 'domain', 'post']))\n",
    "    for index, row in df_ios.iterrows():\n",
    "        columns = [str(row['index']), row['domain'], row['post']]\n",
    "        f.write('::delimiter::'.join(columns))\n",
    "        f.write('\\n')"
   ]
  },
  {
   "cell_type": "code",
   "execution_count": null,
   "metadata": {},
   "outputs": [],
   "source": []
  },
  {
   "cell_type": "code",
   "execution_count": 5,
   "metadata": {},
   "outputs": [
    {
     "output_type": "execute_result",
     "data": {
      "text/plain": [
       "[1, 2, 3, 4, 5, 6, 7, 8, 9, 10]"
      ]
     },
     "metadata": {},
     "execution_count": 5
    }
   ],
   "source": [
    "[i for i in range(1, 11)]"
   ]
  },
  {
   "cell_type": "code",
   "execution_count": 5,
   "metadata": {},
   "outputs": [
    {
     "output_type": "stream",
     "name": "stdout",
     "text": [
      "Loaded models.\n"
     ]
    },
    {
     "output_type": "error",
     "ename": "FileNotFoundError",
     "evalue": "[Errno 2] No such file or directory: 'preprocess/cue_word.txt'",
     "traceback": [
      "\u001b[0;31m---------------------------------------------------------------------------\u001b[0m",
      "\u001b[0;31mFileNotFoundError\u001b[0m                         Traceback (most recent call last)",
      "\u001b[0;32m<ipython-input-5-a20013bb38a3>\u001b[0m in \u001b[0;36m<module>\u001b[0;34m\u001b[0m\n\u001b[0;32m----> 1\u001b[0;31m \u001b[0;32mfrom\u001b[0m \u001b[0mapp\u001b[0m\u001b[0;34m.\u001b[0m\u001b[0mmain\u001b[0m\u001b[0;34m.\u001b[0m\u001b[0mevaluation\u001b[0m\u001b[0;34m.\u001b[0m\u001b[0mevaluate\u001b[0m \u001b[0;32mimport\u001b[0m \u001b[0mEvaluation\u001b[0m\u001b[0;34m\u001b[0m\u001b[0;34m\u001b[0m\u001b[0m\n\u001b[0m",
      "\u001b[0;32m~/Desktop/automated-resume-screening-server/app/__init__.py\u001b[0m in \u001b[0;36m<module>\u001b[0;34m\u001b[0m\n\u001b[1;32m     10\u001b[0m \u001b[0;32mfrom\u001b[0m \u001b[0mapp\u001b[0m\u001b[0;34m.\u001b[0m\u001b[0mmain\u001b[0m\u001b[0;34m.\u001b[0m\u001b[0mresource\u001b[0m\u001b[0;34m.\u001b[0m\u001b[0merrors\u001b[0m \u001b[0;32mimport\u001b[0m \u001b[0mUnauthorizedError\u001b[0m\u001b[0;34m\u001b[0m\u001b[0;34m\u001b[0m\u001b[0m\n\u001b[1;32m     11\u001b[0m \u001b[0;34m\u001b[0m\u001b[0m\n\u001b[0;32m---> 12\u001b[0;31m \u001b[0;32mfrom\u001b[0m \u001b[0;34m.\u001b[0m\u001b[0mmain\u001b[0m\u001b[0;34m.\u001b[0m\u001b[0mcontroller\u001b[0m\u001b[0;34m.\u001b[0m\u001b[0mcompany_controller\u001b[0m \u001b[0;32mimport\u001b[0m \u001b[0mapi\u001b[0m \u001b[0;32mas\u001b[0m \u001b[0mcompany_ns\u001b[0m\u001b[0;34m\u001b[0m\u001b[0;34m\u001b[0m\u001b[0m\n\u001b[0m\u001b[1;32m     13\u001b[0m \u001b[0;32mfrom\u001b[0m \u001b[0;34m.\u001b[0m\u001b[0mmain\u001b[0m\u001b[0;34m.\u001b[0m\u001b[0mcontroller\u001b[0m\u001b[0;34m.\u001b[0m\u001b[0maccount_controller\u001b[0m \u001b[0;32mimport\u001b[0m \u001b[0mapi\u001b[0m \u001b[0;32mas\u001b[0m \u001b[0maccount_ns\u001b[0m\u001b[0;34m\u001b[0m\u001b[0;34m\u001b[0m\u001b[0m\n\u001b[1;32m     14\u001b[0m \u001b[0;32mfrom\u001b[0m \u001b[0;34m.\u001b[0m\u001b[0mmain\u001b[0m\u001b[0;34m.\u001b[0m\u001b[0mcontroller\u001b[0m\u001b[0;34m.\u001b[0m\u001b[0mcandidate_controller\u001b[0m \u001b[0;32mimport\u001b[0m \u001b[0mapiCandidate\u001b[0m \u001b[0;32mas\u001b[0m \u001b[0mcandidate_ns\u001b[0m\u001b[0;34m\u001b[0m\u001b[0;34m\u001b[0m\u001b[0m\n",
      "\u001b[0;32m~/Desktop/automated-resume-screening-server/app/main/controller/company_controller.py\u001b[0m in \u001b[0;36m<module>\u001b[0;34m\u001b[0m\n\u001b[1;32m      1\u001b[0m \u001b[0;32mimport\u001b[0m \u001b[0mos\u001b[0m\u001b[0;34m\u001b[0m\u001b[0;34m\u001b[0m\u001b[0m\n\u001b[1;32m      2\u001b[0m \u001b[0;32mimport\u001b[0m \u001b[0muuid\u001b[0m\u001b[0;34m\u001b[0m\u001b[0;34m\u001b[0m\u001b[0m\n\u001b[0;32m----> 3\u001b[0;31m \u001b[0;32mfrom\u001b[0m \u001b[0mapp\u001b[0m\u001b[0;34m.\u001b[0m\u001b[0mmain\u001b[0m\u001b[0;34m.\u001b[0m\u001b[0mutil\u001b[0m\u001b[0;34m.\u001b[0m\u001b[0mresume_extractor\u001b[0m \u001b[0;32mimport\u001b[0m \u001b[0mremove_temp_files\u001b[0m\u001b[0;34m\u001b[0m\u001b[0;34m\u001b[0m\u001b[0m\n\u001b[0m\u001b[1;32m      4\u001b[0m \u001b[0;32mfrom\u001b[0m \u001b[0mflask_jwt_extended\u001b[0m\u001b[0;34m.\u001b[0m\u001b[0mutils\u001b[0m \u001b[0;32mimport\u001b[0m \u001b[0mget_jwt_identity\u001b[0m\u001b[0;34m\u001b[0m\u001b[0;34m\u001b[0m\u001b[0m\n\u001b[1;32m      5\u001b[0m \u001b[0;32mfrom\u001b[0m \u001b[0mapp\u001b[0m\u001b[0;34m.\u001b[0m\u001b[0mmain\u001b[0m\u001b[0;34m.\u001b[0m\u001b[0mutil\u001b[0m\u001b[0;34m.\u001b[0m\u001b[0mresponse\u001b[0m \u001b[0;32mimport\u001b[0m \u001b[0mresponse_object\u001b[0m\u001b[0;34m\u001b[0m\u001b[0;34m\u001b[0m\u001b[0m\n",
      "\u001b[0;32m~/Desktop/automated-resume-screening-server/app/main/util/resume_extractor.py\u001b[0m in \u001b[0;36m<module>\u001b[0;34m\u001b[0m\n\u001b[1;32m     17\u001b[0m \u001b[0mstop_words\u001b[0m \u001b[0;34m=\u001b[0m \u001b[0mset\u001b[0m\u001b[0;34m(\u001b[0m\u001b[0mstopwords\u001b[0m\u001b[0;34m.\u001b[0m\u001b[0mwords\u001b[0m\u001b[0;34m(\u001b[0m\u001b[0;34m'english'\u001b[0m\u001b[0;34m)\u001b[0m\u001b[0;34m)\u001b[0m\u001b[0;34m\u001b[0m\u001b[0;34m\u001b[0m\u001b[0m\n\u001b[1;32m     18\u001b[0m \u001b[0;34m\u001b[0m\u001b[0m\n\u001b[0;32m---> 19\u001b[0;31m \u001b[0mcue_words\u001b[0m \u001b[0;34m=\u001b[0m \u001b[0mopen\u001b[0m\u001b[0;34m(\u001b[0m\u001b[0;34m\"preprocess/cue_word.txt\"\u001b[0m\u001b[0;34m,\u001b[0m \u001b[0;34m\"r\"\u001b[0m\u001b[0;34m)\u001b[0m\u001b[0;34m.\u001b[0m\u001b[0mreadlines\u001b[0m\u001b[0;34m(\u001b[0m\u001b[0;34m)\u001b[0m\u001b[0;34m\u001b[0m\u001b[0;34m\u001b[0m\u001b[0m\n\u001b[0m\u001b[1;32m     20\u001b[0m \u001b[0mcue_words\u001b[0m \u001b[0;34m=\u001b[0m \u001b[0;34m[\u001b[0m\u001b[0mre\u001b[0m\u001b[0;34m.\u001b[0m\u001b[0msub\u001b[0m\u001b[0;34m(\u001b[0m\u001b[0;34mr\"\\n\"\u001b[0m\u001b[0;34m,\u001b[0m \u001b[0;34m\"\"\u001b[0m\u001b[0;34m,\u001b[0m \u001b[0mc\u001b[0m\u001b[0;34m)\u001b[0m \u001b[0;32mfor\u001b[0m \u001b[0mc\u001b[0m \u001b[0;32min\u001b[0m \u001b[0mcue_words\u001b[0m\u001b[0;34m]\u001b[0m\u001b[0;34m\u001b[0m\u001b[0;34m\u001b[0m\u001b[0m\n\u001b[1;32m     21\u001b[0m \u001b[0mcue_words\u001b[0m \u001b[0;34m=\u001b[0m \u001b[0mset\u001b[0m\u001b[0;34m(\u001b[0m\u001b[0mcue_words\u001b[0m\u001b[0;34m)\u001b[0m\u001b[0;34m\u001b[0m\u001b[0;34m\u001b[0m\u001b[0m\n",
      "\u001b[0;31mFileNotFoundError\u001b[0m: [Errno 2] No such file or directory: 'preprocess/cue_word.txt'"
     ]
    }
   ],
   "source": [
    "from app.main.evaluation.evaluate import Evaluation"
   ]
  },
  {
   "cell_type": "code",
   "execution_count": 39,
   "metadata": {},
   "outputs": [],
   "source": [
    "post_skills = [\"bitbucket\", \"open source projects\", \"github\", \"file system\", \"mobile application\", \"communication protocol\", \"software developer\", \"reasoning\", \"source code\", \"sourcetree\", \"software development\", \"html\", \"software\", \"smart phone\", \"communication\", \"javascript\", \"blog\", \"web application\", \"networking\", \"quality assurance\", \"interaction designs\", \"user experience\", \"css\", \"camera\", \"ajax\", \"build\", \"business process\", \"api\", \"protocols\", \"modernizr\", \"project\", \"git\", \"android\", \"filesystem\", \"mobile devices\", \"jquery\", \"responsive\", \"usability testing\", \"smartphones\", \"architecture\", \"internet\", \"code\", \"source codes\", \"code review\", \"system architectures\", \"bootstrap\", \"database\", \"mobile device\", \"hardware\", \"tool\", \"user interface\", \"business processes\", \"testing\", \"mobile phones\", \"tasks\", \"php\", \"node.js\", \"software developers\", \"optimization\", \"accessiblility\", \"interaction design\", \"tests\", \"optimization problems\", \"databases\", \"environment\", \"animation\", \"knowledge\", \"conceptual design\", \"web applications\", \"system architecture\", \"network\", \"web pages\", \"user interfaces\", \"framework\", \"communication protocols\", \"engineers\", \"engineering\", \"mobile applications\", \"web page\", \"wireframes\", \"software design\", \"software architecture\", \"sass\", \"mobile phone\", \"service\", \"scss\", \"svn\", \"smartphone\", \"html5\"]"
   ]
  },
  {
   "cell_type": "code",
   "execution_count": 40,
   "metadata": {},
   "outputs": [],
   "source": [
    "cv_skills = [\"bitbucket\", \"public keys\", \"pki\", \"programming languagues\", \"webpack\", \"github\", \"social networks\", \"eslint\", \"semantics\", \"xslt\", \"communication protocol\", \"instructional designs\", \"software developer\", \"source code\", \"sourcetree\", \"xml\", \"c\", \"firestore\", \"html\", \"software\", \"university\", \"deploy\", \"ebusiness\", \"communication\", \"javascript\", \"blog\", \"firebase\", \"networking\", \"hyperlinks\", \"world wide web\", \"css\", \"ajax\", \"xpath\", \"protocols\", \"typescript\", \"api\", \"reacjs\", \"optical fibers\", \"connectivity\", \"business process\", \"tailwind\", \"build\", \"project\", \"git\", \"public key\", \"android\", \"credit card\", \"json\", \"cloud\", \"xml schemas\", \"jquery\", \"oocss\", \"navigation\", \"gulp\", \"compilers\", \"internet\", \"architecture\", \"information technology\", \"code\", \"source codes\", \"bootstrap\", \"hardware\", \"compiler\", \"radio\", \"customer service\", \"optical fiber\", \"tool\", \"business processes\", \"programming languages\", \"dom\", \"customer services\", \"broadcasting\", \"fundamentals\", \"php\", \"node.js\", \"software developers\", \"selenium\", \"credentials\", \"knowledge\", \"computer science\", \"network\", \"ssl\", \"web pages\", \"es6\", \"communication protocols\", \"transmitters\", \"social network\", \"xml schema\", \"education\", \"web page\", \"curriculum\", \"sass\", \"grasp\", \"redux\", \"hyperlink\", \"economics\", \"programming language\", \"instructional design\", \"service\", \"scss\", \"svn\", \"credit cards\", \"training\", \"html5\"]"
   ]
  },
  {
   "cell_type": "code",
   "execution_count": 41,
   "metadata": {},
   "outputs": [],
   "source": [
    "existed_rate = 0.0"
   ]
  },
  {
   "cell_type": "code",
   "execution_count": 42,
   "metadata": {},
   "outputs": [
    {
     "output_type": "stream",
     "name": "stdout",
     "text": [
      "104\n43\n89\n"
     ]
    }
   ],
   "source": [
    "_post_skills = set(post_skills)\n",
    "_cv_skills = set(cv_skills)\n",
    "_existed_skills = _cv_skills.intersection(_post_skills)\n",
    "\n",
    "print(len(_cv_skills))\n",
    "\n",
    "print(len(_existed_skills))\n",
    "print(len(_post_skills))"
   ]
  },
  {
   "cell_type": "code",
   "execution_count": 43,
   "metadata": {},
   "outputs": [
    {
     "output_type": "execute_result",
     "data": {
      "text/plain": [
       "{'ajax',\n",
       " 'android',\n",
       " 'api',\n",
       " 'architecture',\n",
       " 'bitbucket',\n",
       " 'blog',\n",
       " 'bootstrap',\n",
       " 'build',\n",
       " 'business process',\n",
       " 'business processes',\n",
       " 'code',\n",
       " 'communication',\n",
       " 'communication protocol',\n",
       " 'communication protocols',\n",
       " 'css',\n",
       " 'git',\n",
       " 'github',\n",
       " 'hardware',\n",
       " 'html',\n",
       " 'html5',\n",
       " 'internet',\n",
       " 'javascript',\n",
       " 'jquery',\n",
       " 'knowledge',\n",
       " 'network',\n",
       " 'networking',\n",
       " 'node.js',\n",
       " 'php',\n",
       " 'project',\n",
       " 'protocols',\n",
       " 'sass',\n",
       " 'scss',\n",
       " 'service',\n",
       " 'software',\n",
       " 'software developer',\n",
       " 'software developers',\n",
       " 'source code',\n",
       " 'source codes',\n",
       " 'sourcetree',\n",
       " 'svn',\n",
       " 'tool',\n",
       " 'web page',\n",
       " 'web pages'}"
      ]
     },
     "metadata": {},
     "execution_count": 43
    }
   ],
   "source": [
    "_existed_skills"
   ]
  },
  {
   "cell_type": "code",
   "execution_count": 47,
   "metadata": {},
   "outputs": [
    {
     "output_type": "execute_result",
     "data": {
      "text/plain": [
       "'\\nHow do you know if this is the right role for you? If you:\\nEnjoy a fast-paced entrepreneurial environment\\nHave strong analytical and problem-solving skills\\nAre coachable and personable, and, ideally, with a good sense of humour!\\nAre a team player, who is willing to disseminate knowledge to other team members\\nAre a passionate individual who is not afraid to ask questions and eager to learn\\nMaintain a high degree of knowledge of current technologies and tools\\nMake recommendations to improve effectiveness of the team\\nHave good communication skills, in both Vietnamese and English\\nYour Skills and Experience\\nWhat skill sets are we looking for from you?\\nLanguages: being efficient in any of the following languages: Ruby\\nFramework: strong experience in modern web technologies such as Ruby on Rails\\nAbility to build standalone Ruby gems\\nThird-party API Integration\\nDatabase: relevant experience with relational databases such as MySQL or PostgreSQL\\nTest coverage: competent skills in unit and integration tests (RSpec / Cucumber)\\nPlatform: adequate knowledge of Continuous Integration/Deployment, AWS and Docker\\nBe familiar with Microservices Architecture and Distributed System\\nBonus:\\nUI/UX knowledge\\nExperience with React.js\\nFamiliarity with Reactive Programming or Functional Programming\\n\\n'"
      ]
     },
     "metadata": {},
     "execution_count": 47
    }
   ],
   "source": [
    "\"\"\"\n",
    "How do you know if this is the right role for you? If you:\n",
    "Enjoy a fast-paced entrepreneurial environment\n",
    "Have strong analytical and problem-solving skills\n",
    "Are coachable and personable, and, ideally, with a good sense of humour!\n",
    "Are a team player, who is willing to disseminate knowledge to other team members\n",
    "Are a passionate individual who is not afraid to ask questions and eager to learn\n",
    "Maintain a high degree of knowledge of current technologies and tools\n",
    "Make recommendations to improve effectiveness of the team\n",
    "Have good communication skills, in both Vietnamese and English\n",
    "Your Skills and Experience\n",
    "What skill sets are we looking for from you?\n",
    "Languages: being efficient in any of the following languages: Ruby\n",
    "Framework: strong experience in modern web technologies such as Ruby on Rails\n",
    "Ability to build standalone Ruby gems\n",
    "Third-party API Integration\n",
    "Database: relevant experience with relational databases such as MySQL or PostgreSQL\n",
    "Test coverage: competent skills in unit and integration tests (RSpec / Cucumber)\n",
    "Platform: adequate knowledge of Continuous Integration/Deployment, AWS and Docker\n",
    "Be familiar with Microservices Architecture and Distributed System\n",
    "Bonus:\n",
    "UI/UX knowledge\n",
    "Experience with React.js\n",
    "Familiarity with Reactive Programming or Functional Programming\n",
    "\n",
    "\"\"\""
   ]
  },
  {
   "cell_type": "code",
   "execution_count": null,
   "metadata": {},
   "outputs": [],
   "source": []
  }
 ]
}