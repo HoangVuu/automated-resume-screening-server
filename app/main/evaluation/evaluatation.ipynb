{
 "metadata": {
  "language_info": {
   "codemirror_mode": {
    "name": "ipython",
    "version": 3
   },
   "file_extension": ".py",
   "mimetype": "text/x-python",
   "name": "python",
   "nbconvert_exporter": "python",
   "pygments_lexer": "ipython3",
   "version": "3.9.0-final"
  },
  "orig_nbformat": 2,
  "kernelspec": {
   "name": "python3",
   "display_name": "Python 3",
   "language": "python"
  }
 },
 "nbformat": 4,
 "nbformat_minor": 2,
 "cells": [
  {
   "cell_type": "code",
   "execution_count": 1,
   "metadata": {},
   "outputs": [
    {
     "output_type": "execute_result",
     "data": {
      "text/plain": [
       "['/Users/vinhpham/Desktop/automated-resume-screening-server/app/main/evaluation',\n",
       " '/Users/vinhpham/.vscode/extensions/ms-toolsai.jupyter-2020.12.414227025/pythonFiles',\n",
       " '/Users/vinhpham/.vscode/extensions/ms-toolsai.jupyter-2020.12.414227025/pythonFiles/lib/python',\n",
       " '/Users/vinhpham/.pyenv/versions/3.9.0/lib/python39.zip',\n",
       " '/Users/vinhpham/.pyenv/versions/3.9.0/lib/python3.9',\n",
       " '/Users/vinhpham/.pyenv/versions/3.9.0/lib/python3.9/lib-dynload',\n",
       " '',\n",
       " '/Users/vinhpham/Desktop/automated-resume-screening-server/venv/lib/python3.9/site-packages',\n",
       " '/Users/vinhpham/Desktop/automated-resume-screening-server/venv/lib/python3.9/site-packages/IPython/extensions',\n",
       " '/Users/vinhpham/.ipython',\n",
       " '/Users/vinhpham/Desktop/automated-resume-screening-server',\n",
       " '/Users/vinhpham/Desktop/automated-resume-screening-server/preprocess',\n",
       " '/Users/vinhpham/Desktop/automated-resume-screening-server/app',\n",
       " '/Users/vinhpham/Desktop/automated-resume-screening-server/app/main',\n",
       " '/Users/vinhpham/Desktop/automated-resume-screening-server/app/main/util']"
      ]
     },
     "metadata": {},
     "execution_count": 1
    }
   ],
   "source": [
    "# Add sys path if need\n",
    "import sys\n",
    "sys.path.append(\"/Users/vinhpham/Desktop/automated-resume-screening-server\")\n",
    "sys.path.append(\"/Users/vinhpham/Desktop/automated-resume-screening-server/preprocess\")\n",
    "sys.path.append(\"/Users/vinhpham/Desktop/automated-resume-screening-server/app\")\n",
    "sys.path.append(\"/Users/vinhpham/Desktop/automated-resume-screening-server/app/main\")\n",
    "sys.path.append(\"/Users/vinhpham/Desktop/automated-resume-screening-server/app/main/util\")\n",
    "sys.path"
   ]
  },
  {
   "cell_type": "code",
   "execution_count": 3,
   "metadata": {},
   "outputs": [
    {
     "output_type": "stream",
     "name": "stdout",
     "text": [
      "Loaded models.\n"
     ]
    },
    {
     "output_type": "error",
     "ename": "FileNotFoundError",
     "evalue": "[Errno 2] No such file or directory: 'preprocess/cue_word.txt'",
     "traceback": [
      "\u001b[0;31m---------------------------------------------------------------------------\u001b[0m",
      "\u001b[0;31mFileNotFoundError\u001b[0m                         Traceback (most recent call last)",
      "\u001b[0;32m<ipython-input-3-3fac60be5546>\u001b[0m in \u001b[0;36m<module>\u001b[0;34m\u001b[0m\n\u001b[0;32m----> 1\u001b[0;31m \u001b[0;32mfrom\u001b[0m \u001b[0mapp\u001b[0m\u001b[0;34m.\u001b[0m\u001b[0mmain\u001b[0m\u001b[0;34m.\u001b[0m\u001b[0mprocess_data\u001b[0m\u001b[0;34m.\u001b[0m\u001b[0mclassify_wrapper\u001b[0m\u001b[0;34m.\u001b[0m\u001b[0mclassify_manager\u001b[0m \u001b[0;32mimport\u001b[0m \u001b[0mClassifyManager\u001b[0m\u001b[0;34m\u001b[0m\u001b[0;34m\u001b[0m\u001b[0m\n\u001b[0m\u001b[1;32m      2\u001b[0m \u001b[0;32mfrom\u001b[0m \u001b[0mapp\u001b[0m\u001b[0;34m.\u001b[0m\u001b[0mmain\u001b[0m\u001b[0;34m.\u001b[0m\u001b[0mutil\u001b[0m\u001b[0;34m.\u001b[0m\u001b[0mresume_extractor\u001b[0m \u001b[0;32mimport\u001b[0m \u001b[0mResumeExtractor\u001b[0m\u001b[0;34m\u001b[0m\u001b[0;34m\u001b[0m\u001b[0m\n\u001b[1;32m      3\u001b[0m \u001b[0;32mimport\u001b[0m \u001b[0mjson\u001b[0m\u001b[0;34m\u001b[0m\u001b[0;34m\u001b[0m\u001b[0m\n\u001b[1;32m      4\u001b[0m \u001b[0;32mimport\u001b[0m \u001b[0mos\u001b[0m\u001b[0;34m\u001b[0m\u001b[0;34m\u001b[0m\u001b[0m\n\u001b[1;32m      5\u001b[0m \u001b[0;32mimport\u001b[0m \u001b[0mpandas\u001b[0m \u001b[0;32mas\u001b[0m \u001b[0mpd\u001b[0m\u001b[0;34m\u001b[0m\u001b[0;34m\u001b[0m\u001b[0m\n",
      "\u001b[0;32m~/Desktop/automated-resume-screening-server/app/__init__.py\u001b[0m in \u001b[0;36m<module>\u001b[0;34m\u001b[0m\n\u001b[1;32m     10\u001b[0m \u001b[0;32mfrom\u001b[0m \u001b[0mapp\u001b[0m\u001b[0;34m.\u001b[0m\u001b[0mmain\u001b[0m\u001b[0;34m.\u001b[0m\u001b[0mresource\u001b[0m\u001b[0;34m.\u001b[0m\u001b[0merrors\u001b[0m \u001b[0;32mimport\u001b[0m \u001b[0mUnauthorizedError\u001b[0m\u001b[0;34m\u001b[0m\u001b[0;34m\u001b[0m\u001b[0m\n\u001b[1;32m     11\u001b[0m \u001b[0;34m\u001b[0m\u001b[0m\n\u001b[0;32m---> 12\u001b[0;31m \u001b[0;32mfrom\u001b[0m \u001b[0;34m.\u001b[0m\u001b[0mmain\u001b[0m\u001b[0;34m.\u001b[0m\u001b[0mcontroller\u001b[0m\u001b[0;34m.\u001b[0m\u001b[0mcompany_controller\u001b[0m \u001b[0;32mimport\u001b[0m \u001b[0mapi\u001b[0m \u001b[0;32mas\u001b[0m \u001b[0mcompany_ns\u001b[0m\u001b[0;34m\u001b[0m\u001b[0;34m\u001b[0m\u001b[0m\n\u001b[0m\u001b[1;32m     13\u001b[0m \u001b[0;32mfrom\u001b[0m \u001b[0;34m.\u001b[0m\u001b[0mmain\u001b[0m\u001b[0;34m.\u001b[0m\u001b[0mcontroller\u001b[0m\u001b[0;34m.\u001b[0m\u001b[0maccount_controller\u001b[0m \u001b[0;32mimport\u001b[0m \u001b[0mapi\u001b[0m \u001b[0;32mas\u001b[0m \u001b[0maccount_ns\u001b[0m\u001b[0;34m\u001b[0m\u001b[0;34m\u001b[0m\u001b[0m\n\u001b[1;32m     14\u001b[0m \u001b[0;32mfrom\u001b[0m \u001b[0;34m.\u001b[0m\u001b[0mmain\u001b[0m\u001b[0;34m.\u001b[0m\u001b[0mcontroller\u001b[0m\u001b[0;34m.\u001b[0m\u001b[0mcandidate_controller\u001b[0m \u001b[0;32mimport\u001b[0m \u001b[0mapiCandidate\u001b[0m \u001b[0;32mas\u001b[0m \u001b[0mcandidate_ns\u001b[0m\u001b[0;34m\u001b[0m\u001b[0;34m\u001b[0m\u001b[0m\n",
      "\u001b[0;32m~/Desktop/automated-resume-screening-server/app/main/controller/company_controller.py\u001b[0m in \u001b[0;36m<module>\u001b[0;34m\u001b[0m\n\u001b[1;32m      1\u001b[0m \u001b[0;32mimport\u001b[0m \u001b[0mos\u001b[0m\u001b[0;34m\u001b[0m\u001b[0;34m\u001b[0m\u001b[0m\n\u001b[1;32m      2\u001b[0m \u001b[0;32mimport\u001b[0m \u001b[0muuid\u001b[0m\u001b[0;34m\u001b[0m\u001b[0;34m\u001b[0m\u001b[0m\n\u001b[0;32m----> 3\u001b[0;31m \u001b[0;32mfrom\u001b[0m \u001b[0mapp\u001b[0m\u001b[0;34m.\u001b[0m\u001b[0mmain\u001b[0m\u001b[0;34m.\u001b[0m\u001b[0mutil\u001b[0m\u001b[0;34m.\u001b[0m\u001b[0mresume_extractor\u001b[0m \u001b[0;32mimport\u001b[0m \u001b[0mremove_temp_files\u001b[0m\u001b[0;34m\u001b[0m\u001b[0;34m\u001b[0m\u001b[0m\n\u001b[0m\u001b[1;32m      4\u001b[0m \u001b[0;32mfrom\u001b[0m \u001b[0mflask_jwt_extended\u001b[0m\u001b[0;34m.\u001b[0m\u001b[0mutils\u001b[0m \u001b[0;32mimport\u001b[0m \u001b[0mget_jwt_identity\u001b[0m\u001b[0;34m\u001b[0m\u001b[0;34m\u001b[0m\u001b[0m\n\u001b[1;32m      5\u001b[0m \u001b[0;32mfrom\u001b[0m \u001b[0mapp\u001b[0m\u001b[0;34m.\u001b[0m\u001b[0mmain\u001b[0m\u001b[0;34m.\u001b[0m\u001b[0mutil\u001b[0m\u001b[0;34m.\u001b[0m\u001b[0mresponse\u001b[0m \u001b[0;32mimport\u001b[0m \u001b[0mresponse_object\u001b[0m\u001b[0;34m\u001b[0m\u001b[0;34m\u001b[0m\u001b[0m\n",
      "\u001b[0;32m~/Desktop/automated-resume-screening-server/app/main/util/resume_extractor.py\u001b[0m in \u001b[0;36m<module>\u001b[0;34m\u001b[0m\n\u001b[1;32m     17\u001b[0m \u001b[0mstop_words\u001b[0m \u001b[0;34m=\u001b[0m \u001b[0mset\u001b[0m\u001b[0;34m(\u001b[0m\u001b[0mstopwords\u001b[0m\u001b[0;34m.\u001b[0m\u001b[0mwords\u001b[0m\u001b[0;34m(\u001b[0m\u001b[0;34m'english'\u001b[0m\u001b[0;34m)\u001b[0m\u001b[0;34m)\u001b[0m\u001b[0;34m\u001b[0m\u001b[0;34m\u001b[0m\u001b[0m\n\u001b[1;32m     18\u001b[0m \u001b[0;34m\u001b[0m\u001b[0m\n\u001b[0;32m---> 19\u001b[0;31m \u001b[0mcue_words\u001b[0m \u001b[0;34m=\u001b[0m \u001b[0mopen\u001b[0m\u001b[0;34m(\u001b[0m\u001b[0;34m\"preprocess/cue_word.txt\"\u001b[0m\u001b[0;34m,\u001b[0m \u001b[0;34m\"r\"\u001b[0m\u001b[0;34m)\u001b[0m\u001b[0;34m.\u001b[0m\u001b[0mreadlines\u001b[0m\u001b[0;34m(\u001b[0m\u001b[0;34m)\u001b[0m\u001b[0;34m\u001b[0m\u001b[0;34m\u001b[0m\u001b[0m\n\u001b[0m\u001b[1;32m     20\u001b[0m \u001b[0mcue_words\u001b[0m \u001b[0;34m=\u001b[0m \u001b[0;34m[\u001b[0m\u001b[0mre\u001b[0m\u001b[0;34m.\u001b[0m\u001b[0msub\u001b[0m\u001b[0;34m(\u001b[0m\u001b[0;34mr\"\\n\"\u001b[0m\u001b[0;34m,\u001b[0m \u001b[0;34m\"\"\u001b[0m\u001b[0;34m,\u001b[0m \u001b[0mc\u001b[0m\u001b[0;34m)\u001b[0m \u001b[0;32mfor\u001b[0m \u001b[0mc\u001b[0m \u001b[0;32min\u001b[0m \u001b[0mcue_words\u001b[0m\u001b[0;34m]\u001b[0m\u001b[0;34m\u001b[0m\u001b[0;34m\u001b[0m\u001b[0m\n\u001b[1;32m     21\u001b[0m \u001b[0mcue_words\u001b[0m \u001b[0;34m=\u001b[0m \u001b[0mset\u001b[0m\u001b[0;34m(\u001b[0m\u001b[0mcue_words\u001b[0m\u001b[0;34m)\u001b[0m\u001b[0;34m\u001b[0m\u001b[0;34m\u001b[0m\u001b[0m\n",
      "\u001b[0;31mFileNotFoundError\u001b[0m: [Errno 2] No such file or directory: 'preprocess/cue_word.txt'"
     ]
    }
   ],
   "source": [
    "from app.main.process_data.classify_wrapper.classify_manager import ClassifyManager\n",
    "from app.main.util.resume_extractor import ResumeExtractor\n",
    "import json\n",
    "import os\n",
    "import pandas as pd\n",
    "import numpy as np"
   ]
  },
  {
   "cell_type": "code",
   "execution_count": null,
   "metadata": {},
   "outputs": [],
   "source": [
    "classifier = ClassifyManager()"
   ]
  },
  {
   "cell_type": "code",
   "execution_count": null,
   "metadata": {},
   "outputs": [],
   "source": [
    "BASE_PATH = \"/Users/vinhpham/Desktop/automated-resume-screening-server/app/main/evaluation\"\n",
    "def path(_path):\n",
    "    return '/'.join([BASE_PATH, _path])"
   ]
  },
  {
   "cell_type": "code",
   "execution_count": null,
   "metadata": {},
   "outputs": [],
   "source": [
    "##################\n",
    "# HELPERS\n",
    "##################\n",
    "# dict_keys(['syntactic', 'semantic', 'union', 'enhanced', 'explanation'])\n",
    "def extract(domain, doc):\n",
    "    domain_result = classifier.run_classifier(domain=domain, explanation=True, job_description=doc)\n",
    "    general_result = classifier.run_classifier(domain='general', explanation=True, job_description=doc)\n",
    "    softskill_result = classifier.run_classifier(domain='softskill', explanation=True, job_description=doc)\n",
    "    return {\n",
    "        'domain': parse_result(domain_result),\n",
    "        'general': parse_result(general_result),\n",
    "        'softskill': parse_result(softskill_result),\n",
    "    }\n",
    "\n",
    "def parse_result(result):\n",
    "    dict_result = result.get_dict()\n",
    "    all_skills = set(dict_result['union'])\n",
    "    explicit_skills = set(dict_result['syntactic'])\n",
    "    related_skills = all_skills.difference(explicit_skills)\n",
    "    return {\n",
    "        'explicit_skills': list(explicit_skills),\n",
    "        'related_skills': list(related_skills),\n",
    "        'all_skills': list(all_skills),\n",
    "        'explanation': dict_result['explanation']\n",
    "    }\n",
    "\n",
    "def parse_CV(local_path):\n",
    "    \"Return text.\"\n",
    "    result_dict = ResumeExtractor(resume_local_path=local_path, is_pdf=true).extract()\n",
    "    return result_dict\n",
    "#######################"
   ]
  },
  {
   "cell_type": "code",
   "execution_count": null,
   "metadata": {},
   "outputs": [],
   "source": [
    "# Extraction\n",
    "res = extract('general', \"golang\")\n",
    "with open(path('/evaluation_result.json'), 'w') as f:\n",
    "    f.write(json.dumps(res, indent=4))"
   ]
  },
  {
   "cell_type": "code",
   "execution_count": null,
   "metadata": {},
   "outputs": [],
   "source": [
    "parse_CV('/Users/vinhpham/Desktop/automated-resume-screening-server/app/main/evaluation/data/ios/cv/ios-1/ios-1.pdf')"
   ]
  },
  {
   "cell_type": "code",
   "execution_count": null,
   "metadata": {},
   "outputs": [],
   "source": [
    "path('csv_file.csv')"
   ]
  },
  {
   "cell_type": "code",
   "execution_count": null,
   "metadata": {},
   "outputs": [],
   "source": [
    "df = pd.read_csv(path('csv_file.csv'))\n",
    "df.shape"
   ]
  },
  {
   "cell_type": "code",
   "execution_count": null,
   "metadata": {},
   "outputs": [],
   "source": [
    "f = open(path('data/ios/posts.csv'))"
   ]
  },
  {
   "cell_type": "code",
   "execution_count": null,
   "metadata": {},
   "outputs": [],
   "source": [
    "ios_posts_path = path('data/ios/posts.csv')\n",
    "df = pd.read_csv(f, delimiter='|')"
   ]
  },
  {
   "cell_type": "code",
   "execution_count": null,
   "metadata": {},
   "outputs": [],
   "source": [
    "[i for i in range(1, 11)]"
   ]
  },
  {
   "cell_type": "code",
   "execution_count": null,
   "metadata": {},
   "outputs": [],
   "source": [
    "data = {\n",
    "    'index': [i for i in range(1, 11)],\n",
    "    'domain': ['ios' for i in range(1, 11)],\n",
    "    'post': [a.strip('\\n').replace('\\n', '. ') for a in [a1, a2, a3, a4, a5, a6, a7, a8, a9, a10]]\n",
    "}\n",
    "df_ios = pd.DataFrame(data=data)"
   ]
  },
  {
   "cell_type": "code",
   "execution_count": null,
   "metadata": {},
   "outputs": [],
   "source": [
    "with open('ios_posts.csv', 'w') as f:\n",
    "    f.write('::delimiter::'.join(['index', 'domain', 'post']))\n",
    "    for index, row in df_ios.iterrows():\n",
    "        columns = [str(row['index']), row['domain'], row['post']]\n",
    "        f.write('::delimiter::'.join(columns))\n",
    "        f.write('\\n')"
   ]
  },
  {
   "cell_type": "code",
   "execution_count": null,
   "metadata": {},
   "outputs": [],
   "source": []
  }
 ]
}