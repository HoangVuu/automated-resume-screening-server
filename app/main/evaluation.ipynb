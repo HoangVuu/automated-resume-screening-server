{
 "metadata": {
  "language_info": {
   "codemirror_mode": {
    "name": "ipython",
    "version": 3
   },
   "file_extension": ".py",
   "mimetype": "text/x-python",
   "name": "python",
   "nbconvert_exporter": "python",
   "pygments_lexer": "ipython3",
   "version": "3.9.0-final"
  },
  "orig_nbformat": 2,
  "kernelspec": {
   "name": "python3",
   "display_name": "Python 3",
   "language": "python"
  }
 },
 "nbformat": 4,
 "nbformat_minor": 2,
 "cells": [
  {
   "cell_type": "code",
   "execution_count": 19,
   "metadata": {},
   "outputs": [
    {
     "output_type": "stream",
     "name": "stdout",
     "text": [
      "Loaded models.\n"
     ]
    }
   ],
   "source": [
    "import sys\n",
    "sys.path.append(\"/Users/vinhpham/Desktop/automated-resume-screening-server\")\n",
    "sys.path.append(\"/Users/vinhpham/Desktop/automated-resume-screening-server/app\")\n",
    "sys.path.append(\"/Users/vinhpham/Desktop/automated-resume-screening-server/app/main\")\n",
    "\n",
    "from process_data.classify_wrapper.classify_manager import ClassifyManager\n",
    "classifier = ClassifyManager()"
   ]
  },
  {
   "cell_type": "code",
   "execution_count": null,
   "metadata": {},
   "outputs": [],
   "source": [
    "import pandas as pd"
   ]
  },
  {
   "cell_type": "code",
   "execution_count": 26,
   "metadata": {},
   "outputs": [],
   "source": [
    "a1 = \"\"\"\n",
    "Job brief\n",
    "We are looking for a Mobile Flutter Developer to build and implement functional programs. You will work with other Developers and Product Managers throughout the software development life cycle.\n",
    "\n",
    "In this role, you should be a team player with a keen eye for detail, design and problem-solving skills. If you also have experience in Flutter, GraphQL, Firebase or APIs, we’d like to meet you.\n",
    "\n",
    "Your goal will be to build efficient programs and systems that serve user needs.\n",
    "\n",
    "Responsibilities\n",
    "Create multi-platform apps for iOS and Android using Google's Flutter development framework.\n",
    "Work and collaborate with designers, back-end team and product owner in order to provide mock-up before designing APIs.\n",
    "Develop a flexible, well-structured Flutter and reusable code and libraries for future use.\n",
    "Optimize application for maximum speed and scalability.\n",
    "Your Skills and Experience\n",
    "Requirements\n",
    "BSc/BA in Computer Science, Engineering or a related field is a plus.\n",
    "1+ years in Flutter, Flutter layout, BloC and the mobile app development lifecycle.\n",
    "2+ years of mobile development experience if worked on other stacks not Flutter.\n",
    "Strong in Dart and knowledge in OOP, design patterns and functional paradigms.\n",
    "Strong in creating responsive applications based on components.\n",
    "Good sense of UI/UX.\n",
    "Good in REST APIs, familiar with all modern architectures (MVP, MVVM, Redux, etc) is a plus.\n",
    "Published mobile apps in Google Play or App Store or Firebase App Distribution is a plus.\n",
    "Good reading and communication skills in English (required)\n",
    "\"\"\""
   ]
  },
  {
   "cell_type": "code",
   "execution_count": 27,
   "metadata": {},
   "outputs": [],
   "source": [
    "a2 = \"\"\"\n",
    "Job Description\n",
    "Support the entire application lifecycle (concept, design, test, release, and support).\n",
    "Produce fully functional mobile applications writing clean code.\n",
    "Gather specific requirements and suggest solutions\n",
    "Participate in requirement analysis, implementation, code review, test, and deployment process.\n",
    "Remain up to date with the terminology, concepts, and best practices for coding mobile apps.\n",
    "Write technical documents.\n",
    "Troubleshoot and debug to optimize performance.\n",
    "Ensure new and legacy applications meet quality standards\n",
    "Your Skills and Experience\n",
    "At least 2 years of native mobile app development in iOS (Swift) or Android (Java, Kotlin)\n",
    "Good knowledge about OOP design principles.\n",
    "Experience with third-party libraries and APIs.\n",
    "Familiar with UI elements & layout, basic animation techniques\n",
    "Familiarity with RESTful APIs or SOCKET to connect applications to back-end services.\n",
    "Good at using version control systems as Git  \n",
    "\"\"\""
   ]
  },
  {
   "cell_type": "code",
   "execution_count": 28,
   "metadata": {},
   "outputs": [],
   "source": [
    "a3 = \"\"\"\n",
    "Job Description\n",
    "Monster Pixel is a technology product development firm. We focus on Developing, Delivering and Maintaining applications for a variety of industries through modernizing legacy systems, implementing modern systems and helping launch and maintain your strategic software ideas.\n",
    "\n",
    "We are looking for an Android developer responsible for the development and maintenance of applications aimed at a vast number of diverse Android devices.\n",
    ".Your primary focus will be the development of Android applications and their integration with back-end services.\n",
    ".Build a highly interactive, user-friendly Android application\n",
    ".Perform entire software development (mobile application) lifecycle, from conceptualisation , design, development, testing, deployment, maintenance and support\n",
    "Your Skills and Experience\n",
    "At least 1 years in software development\n",
    "Strong knowledge of Android SDK, different versions of Android, and how to deal with different screen sizes\n",
    "Familiarity with RESTful APIs to connect Android applications to back-end services\n",
    "Strong knowledge of Android UI design principles, patterns, and best practices\n",
    "Experience with offline storage, threading, and performance tuning\n",
    "Ability to design applications around natural user interfaces, such as “touch”\n",
    "Ability to understand business requirements and translate them into technical requirements\n",
    "Familiarity with cloud message APIs and push notifications\n",
    "Understanding of Google’s Android design principles and interface guidelines\n",
    "Proficient understanding of code versioning tools, such as Git\n",
    "\"\"\""
   ]
  },
  {
   "cell_type": "code",
   "execution_count": 29,
   "metadata": {},
   "outputs": [],
   "source": [
    "a4 = \"\"\"\n",
    "Job Description\n",
    "Designing and developing advanced applications for the Android platform\n",
    "Collaborate with cross-functional teams to define, design, and ship new features\n",
    "Work with outside data sources and APIs\n",
    "Unit-testing code for robustness, including edge cases, usability, and general reliability\n",
    "Work on bug fixing and improving application performance\n",
    "Continuously discover, evaluate, and implement new technologies to maximize development efficiency\n",
    "Maintain the existing application and create sophisticated solutions to complex technical problems.\n",
    "Join in estimating, planning\n",
    "Your Skills and Experience\n",
    "4+ years of experience building high-quality Android apps.\n",
    "Experience publishing Android apps to the Play Store\n",
    "Good knowledge at OOP and various design pattern.\n",
    "Solid understanding of the full mobile development life cycle.\n",
    "Experience designing, developing, debugging and deploying Kotlin as the primary language\n",
    "Strong knowledge of MVP, MVVM design pattern.\n",
    "Experience background processing, threading, and performance tuning, caching and performance optimization.\n",
    "Prior experience building RESTful API’s focusing on integration with back-end services\n",
    "Experience with Git, Jira\n",
    "Have a strong sense of ownership, open-minded and eager to learn\n",
    "Must have a proactive attitude\n",
    "Experience working both independently and in a team-oriented, collaborative environment is essential\n",
    "Ability to define, implement and/or lead process improvements that will expand overall efficiency and software quality\n",
    "Effective verbal, written and interpersonal communication skills, consultative and advisory skills.\n",
    "\"\"\""
   ]
  },
  {
   "cell_type": "code",
   "execution_count": 30,
   "metadata": {},
   "outputs": [],
   "source": [
    "a5 = \"\"\"\n",
    "Job Description\n",
    "Required Skills\n",
    "\n",
    "You have 1+ years of continuous Android development experience.\n",
    "Develop mobile applications using Kotlin.\n",
    "Fix any issues that may arise tracked by error management tools such as Fabric.\n",
    "Solid understanding of the full mobile development life cycle\n",
    "Able to troubleshoot and debug issues quickly\n",
    "Understand Restful concept\n",
    "Understand MVVM design pattern\n",
    "Able to grasp new concepts quickly\n",
    "Understand Android XML layout (Android)\n",
    "Can communicate in English\n",
    "Experience in supporting various devices and screen sizes\n",
    "Solid understanding of common third-party Android frameworks/APIs as well as common design patterns\n",
    "Experience working with embedded databases/persistence (sqlite, realm, etc..)\n",
    "Experienced with automated testing on Android platform\n",
    "Comfortable with agile/scrum development process and code reviews\n",
    "In-depth understanding of JSON/RESTful APIs APIs, technologies\n",
    "Good sense and understanding of UX/UI\n",
    "Our company does not write the code alone, You must able to using Git, which is Version Control to work with others in the team\n",
    "Do not overlook the writing of test. Otherwise, it will be a disaster.\n",
    " \n",
    "\n",
    "Your Skills and Experience\n",
    "It's a plus if you\n",
    "\n",
    "Can learn new technologies quickly, dare to comment and have a high self-learning skill\n",
    "Are witty, able to solve problems correctly.\n",
    "Can take responsibility for assigned tasks and complete your tasks following the schedule.\n",
    "Enjoy teaching others.\n",
    "Love to be challenged, in and out of your day job.\n",
    "Are crazy fun, hilarious and adaptable to everyone in the team. Our company never said that “I am not that good at making conversation.“, because it’s not our genetic.\n",
    "Passionate for learning.\n",
    "Ready to party anytime and still able to go to work on time.\n",
    "Are always ready for playing games with others, because we are not concerned about the time that much.\n",
    "Show us some projects that you have taken part in\n",
    "\"\"\""
   ]
  },
  {
   "cell_type": "code",
   "execution_count": 31,
   "metadata": {},
   "outputs": [],
   "source": [
    "data = {\n",
    "    'index': [i for i in range(1, 6)],\n",
    "    'domain': ['android' for i in range(1, 6)],\n",
    "    'post': [i.strip('\\n').replace('\\n', '. ') for i in [a1, a2, a3, a4, a5]],\n",
    "}\n",
    "df = pd.DataFrame(data=data)"
   ]
  },
  {
   "cell_type": "code",
   "execution_count": 32,
   "metadata": {},
   "outputs": [],
   "source": [
    "DELIMETER = '::delimeter::'"
   ]
  },
  {
   "cell_type": "code",
   "execution_count": 33,
   "metadata": {},
   "outputs": [
    {
     "output_type": "execute_result",
     "data": {
      "text/plain": [
       "Index(['index', 'domain', 'post'], dtype='object')"
      ]
     },
     "metadata": {},
     "execution_count": 33
    }
   ],
   "source": [
    "df.columns"
   ]
  },
  {
   "cell_type": "code",
   "execution_count": 34,
   "metadata": {},
   "outputs": [],
   "source": [
    "with open('android_posts.csv', 'w') as f:\n",
    "    f.write(DELIMETER.join(['index', 'domain', 'post']))\n",
    "    f.write('\\n')\n",
    "    for i, row in df.iterrows():\n",
    "        f.write(DELIMETER.join([str(row['index']), row['domain'], row['post']]))\n",
    "        f.write('\\n')"
   ]
  },
  {
   "cell_type": "code",
   "execution_count": null,
   "metadata": {},
   "outputs": [],
   "source": []
  }
 ]
}