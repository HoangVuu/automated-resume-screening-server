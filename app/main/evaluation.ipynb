{
 "metadata": {
  "language_info": {
   "codemirror_mode": {
    "name": "ipython",
    "version": 3
   },
   "file_extension": ".py",
   "mimetype": "text/x-python",
   "name": "python",
   "nbconvert_exporter": "python",
   "pygments_lexer": "ipython3",
   "version": "3.9.0-final"
  },
  "orig_nbformat": 2,
  "kernelspec": {
   "name": "python3",
   "display_name": "Python 3",
   "language": "python"
  }
 },
 "nbformat": 4,
 "nbformat_minor": 2,
 "cells": [
  {
   "cell_type": "code",
   "execution_count": 5,
   "metadata": {},
   "outputs": [],
   "source": [
    "import sys\n",
    "sys.path.append(\"/Users/vinhpham/Desktop/automated-resume-screening-server\")\n",
    "sys.path.append(\"/Users/vinhpham/Desktop/automated-resume-screening-server/app\")\n",
    "sys.path.append(\"/Users/vinhpham/Desktop/automated-resume-screening-server/app/main\")\n",
    "\n",
    "from process_data.classify_wrapper.classify_manager import ClassifyManager"
   ]
  },
  {
   "cell_type": "code",
   "execution_count": 17,
   "metadata": {},
   "outputs": [],
   "source": [
    "job_description = \"\"\"\n",
    "Job brief\n",
    "We are looking for a Mobile Flutter Developer to build and implement functional programs. You will work with other Developers and Product Managers throughout the software development life cycle.\n",
    "\n",
    "In this role, you should be a team player with a keen eye for detail, design and problem-solving skills. If you also have experience in Flutter, GraphQL, Firebase or APIs, we’d like to meet you.\n",
    "\n",
    "Your goal will be to build efficient programs and systems that serve user needs.\n",
    "\n",
    "Responsibilities\n",
    "Create multi-platform apps for iOS and Android using Google's Flutter development framework.\n",
    "Work and collaborate with designers, back-end team and product owner in order to provide mock-up before designing APIs.\n",
    "Develop a flexible, well-structured Flutter and reusable code and libraries for future use.\n",
    "Optimize application for maximum speed and scalability.\n",
    "Your Skills and Experience\n",
    "Requirements\n",
    "BSc/BA in Computer Science, Engineering or a related field is a plus.\n",
    "1+ years in Flutter, Flutter layout, BloC and the mobile app development lifecycle.\n",
    "2+ years of mobile development experience if worked on other stacks not Flutter.\n",
    "Strong in Dart and knowledge in OOP, design patterns and functional paradigms.\n",
    "Strong in creating responsive applications based on components.\n",
    "Good sense of UI/UX.\n",
    "Good in REST APIs, familiar with all modern architectures (MVP, MVVM, Redux, etc) is a plus.\n",
    "Published mobile apps in Google Play or App Store or Firebase App Distribution is a plus.\n",
    "Good reading and communication skills in English (required).\n",
    "\"\"\""
   ]
  },
  {
   "cell_type": "code",
   "execution_count": 19,
   "metadata": {},
   "outputs": [
    {
     "output_type": "execute_result",
     "data": {
      "text/plain": [
       "\"\\nJob brief\\nWe are looking for a Mobile Flutter Developer to build and implement functional programs. You will work with other Developers and Product Managers throughout the software development life cycle.\\n\\nIn this role, you should be a team player with a keen eye for detail, design and problem-solving skills. If you also have experience in Flutter, GraphQL, Firebase or APIs, we’d like to meet you.\\n\\nYour goal will be to build efficient programs and systems that serve user needs.\\n\\nResponsibilities\\nCreate multi-platform apps for iOS and Android using Google's Flutter development framework.\\nWork and collaborate with designers, back-end team and product owner in order to provide mock-up before designing APIs.\\nDevelop a flexible, well-structured Flutter and reusable code and libraries for future use.\\nOptimize application for maximum speed and scalability.\\nYour Skills and Experience\\nRequirements\\nBSc/BA in Computer Science, Engineering or a related field is a plus.\\n1+ years in Flutter, Flutter layout, BloC and the mobile app development lifecycle.\\n2+ years of mobile development experience if worked on other stacks not Flutter.\\nStrong in Dart and knowledge in OOP, design patterns and functional paradigms.\\nStrong in creating responsive applications based on components.\\nGood sense of UI/UX.\\nGood in REST APIs, familiar with all modern architectures (MVP, MVVM, Redux, etc) is a plus.\\nPublished mobile apps in Google Play or App Store or Firebase App Distribution is a plus.\\nGood reading and communication skills in English (required).\\n\""
      ]
     },
     "metadata": {},
     "execution_count": 19
    }
   ],
   "source": [
    "job_description"
   ]
  },
  {
   "cell_type": "code",
   "execution_count": 16,
   "metadata": {},
   "outputs": [],
   "source": [
    "result = ClassifyManager().run_classifier(domain=\"ios\", explanation=True, job_description=job_description)"
   ]
  },
  {
   "cell_type": "code",
   "execution_count": 18,
   "metadata": {},
   "outputs": [
    {
     "output_type": "execute_result",
     "data": {
      "text/plain": [
       "{'syntactic': ['notifications', 'cloud', 'testing'],\n",
       " 'semantic': [True, True, True, True, True, True, True],\n",
       " 'union': [True, 'notifications', 'cloud', 'testing'],\n",
       " 'enhanced': ['core foundation', 'data persistence', 'ios developer'],\n",
       " 'explanation': {'testing': ['testing'],\n",
       "  'cloud': ['cloud'],\n",
       "  'notifications': ['notifications'],\n",
       "  True: ['message'],\n",
       "  'core foundation': ['notifications'],\n",
       "  'data persistence': ['cloud'],\n",
       "  'ios developer': ['testing']}}"
      ]
     },
     "metadata": {},
     "execution_count": 18
    }
   ],
   "source": [
    "result.get_dict()"
   ]
  },
  {
   "cell_type": "code",
   "execution_count": null,
   "metadata": {},
   "outputs": [],
   "source": []
  }
 ]
}